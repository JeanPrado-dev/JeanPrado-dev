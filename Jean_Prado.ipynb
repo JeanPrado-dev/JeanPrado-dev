{
  "nbformat": 4,
  "nbformat_minor": 0,
  "metadata": {
    "colab": {
      "provenance": [],
      "authorship_tag": "ABX9TyO+MQwCV2zqwRWZR+gLHLGW",
      "include_colab_link": true
    },
    "kernelspec": {
      "name": "python3",
      "display_name": "Python 3"
    },
    "language_info": {
      "name": "python"
    }
  },
  "cells": [
    {
      "cell_type": "markdown",
      "metadata": {
        "id": "view-in-github",
        "colab_type": "text"
      },
      "source": [
        "<a href=\"https://colab.research.google.com/github/JeanPrado-dev/JeanPrado-dev/blob/main/Jean_Prado.ipynb\" target=\"_parent\"><img src=\"https://colab.research.google.com/assets/colab-badge.svg\" alt=\"Open In Colab\"/></a>"
      ]
    },
    {
      "cell_type": "code",
      "execution_count": 1,
      "metadata": {
        "colab": {
          "base_uri": "https://localhost:8080/"
        },
        "id": "t96KMVD5v9lV",
        "outputId": "d3fef32b-fa53-4c94-a9fd-e92d7d66fe48"
      },
      "outputs": [
        {
          "output_type": "stream",
          "name": "stdout",
          "text": [
            "Olá Mundo\n"
          ]
        }
      ],
      "source": [
        "print(\"Olá Mundo\")\n"
      ]
    },
    {
      "cell_type": "code",
      "source": [
        "# Bem Vindo  Maquina de venda Automatica de Ingressos de Cinema!\n",
        "\n",
        "# Solicita a Idade do Cliente\n",
        "\n",
        "idade =(input(\"Por Favor, digite sua idade\"))\n",
        "\n",
        "\n",
        "#Verifica a idade para sugestão de filmes\n",
        "\n",
        "if idade<12:\n",
        "\n",
        "  print(\"Recomendamos o filme infantil FILME 1.\")\n",
        "\n",
        "\n",
        "    print(\"Recomendamos o filme adoslescente FILME 2.\")\n",
        "\n",
        "    else:\n",
        "\n",
        "      print(\"Recomendamos o emocionante FILME 3.\")\n",
        "\n",
        "\n",
        "      #Verifica a disponibilidade de ingressos\n",
        "\n",
        "      quantidade_ingressos = 10 #Suponha que haja 10 ingressos disponiveis\n",
        "      if quantidade_ingressos>0:\n",
        "\n",
        "        print(\"Ingressos estão disponiveis.Divirta-se no cinema!\")\n",
        "\n",
        "        else:\n",
        "\n",
        "          print(\"Desculpe, todos os ingressos estão esgotados para hoje.\")\n"
      ],
      "metadata": {
        "colab": {
          "base_uri": "https://localhost:8080/",
          "height": 106
        },
        "id": "wa__QWjrw_ZN",
        "outputId": "f31ac620-4e89-477e-fac3-82514ca2ebd2"
      },
      "execution_count": 8,
      "outputs": [
        {
          "output_type": "error",
          "ename": "IndentationError",
          "evalue": "unexpected indent (<ipython-input-8-4ed9ffe10b99>, line 15)",
          "traceback": [
            "\u001b[0;36m  File \u001b[0;32m\"<ipython-input-8-4ed9ffe10b99>\"\u001b[0;36m, line \u001b[0;32m15\u001b[0m\n\u001b[0;31m    print(\"Recomendamos o filme adoslescente FILME 2.\")\u001b[0m\n\u001b[0m    ^\u001b[0m\n\u001b[0;31mIndentationError\u001b[0m\u001b[0;31m:\u001b[0m unexpected indent\n"
          ]
        }
      ]
    }
  ]
}